{
 "cells": [
  {
   "cell_type": "code",
   "execution_count": 1,
   "metadata": {},
   "outputs": [],
   "source": [
    "import numpy as np"
   ]
  },
  {
   "cell_type": "code",
   "execution_count": 6,
   "metadata": {},
   "outputs": [
    {
     "name": "stdout",
     "output_type": "stream",
     "text": [
      "10\n",
      "9\n",
      "10\n",
      "9\n"
     ]
    },
    {
     "data": {
      "text/plain": [
       "False"
      ]
     },
     "execution_count": 6,
     "metadata": {},
     "output_type": "execute_result"
    }
   ],
   "source": [
    "A = np.random.rand(10, 10)\n",
    "\n",
    "l = 100\n",
    "\n",
    "B = np.random.rand(10, 10)\n",
    "\n",
    "B[: 2] = B[: 1]\n",
    "\n",
    "print(np.linalg.matrix_rank(A))\n",
    "\n",
    "print(np.linalg.matrix_rank(B))\n",
    "\n",
    "print(np.linalg.matrix_rank(A*l))\n",
    "\n",
    "print(np.linalg.matrix_rank(B*l))\n",
    "\n",
    "np.linalg.matrix_rank(l*A) == np.linalg.matrix_rank(A)*l"
   ]
  }
 ],
 "metadata": {
  "kernelspec": {
   "display_name": "base",
   "language": "python",
   "name": "python3"
  },
  "language_info": {
   "codemirror_mode": {
    "name": "ipython",
    "version": 3
   },
   "file_extension": ".py",
   "mimetype": "text/x-python",
   "name": "python",
   "nbconvert_exporter": "python",
   "pygments_lexer": "ipython3",
   "version": "3.11.7"
  }
 },
 "nbformat": 4,
 "nbformat_minor": 2
}
