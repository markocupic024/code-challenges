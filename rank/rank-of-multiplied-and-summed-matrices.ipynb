{
 "cells": [
  {
   "cell_type": "code",
   "execution_count": 1,
   "metadata": {},
   "outputs": [],
   "source": [
    "import numpy as np"
   ]
  },
  {
   "cell_type": "code",
   "execution_count": 3,
   "metadata": {},
   "outputs": [
    {
     "name": "stdout",
     "output_type": "stream",
     "text": [
      "2\n",
      "2\n",
      "2\n",
      "2\n"
     ]
    }
   ],
   "source": [
    "n = 2\n",
    "\n",
    "m = 5\n",
    "\n",
    "A = np.random.rand(n, m)\n",
    "\n",
    "B = np.random.rand(n, m)\n",
    "\n",
    "AtA = A.T@A\n",
    "\n",
    "BtB = B.T@B\n",
    "\n",
    "print(np.linalg.matrix_rank(A)) # rank is 2\n",
    "\n",
    "print(np.linalg.matrix_rank(B)) # rank is 2\n",
    "\n",
    "print(np.linalg.matrix_rank(AtA)) # rank is 2\n",
    "\n",
    "print(np.linalg.matrix_rank(BtB)) # rank is 2"
   ]
  }
 ],
 "metadata": {
  "kernelspec": {
   "display_name": "base",
   "language": "python",
   "name": "python3"
  },
  "language_info": {
   "codemirror_mode": {
    "name": "ipython",
    "version": 3
   },
   "file_extension": ".py",
   "mimetype": "text/x-python",
   "name": "python",
   "nbconvert_exporter": "python",
   "pygments_lexer": "ipython3",
   "version": "3.11.7"
  }
 },
 "nbformat": 4,
 "nbformat_minor": 2
}
