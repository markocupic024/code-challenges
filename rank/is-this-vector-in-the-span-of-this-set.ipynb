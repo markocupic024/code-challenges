{
 "cells": [
  {
   "cell_type": "code",
   "execution_count": 1,
   "metadata": {},
   "outputs": [],
   "source": [
    "import numpy as np"
   ]
  },
  {
   "cell_type": "code",
   "execution_count": 12,
   "metadata": {},
   "outputs": [
    {
     "name": "stdout",
     "output_type": "stream",
     "text": [
      "2\n",
      "2\n",
      "3\n",
      "2\n"
     ]
    }
   ],
   "source": [
    "v = np.array([1, 2, 3, 4])\n",
    "\n",
    "S = np.array([[4, 3, 6, 2], [0, 4, 0, 1]]).T\n",
    "\n",
    "T = np.array([[1, 2, 2, 2], [0, 0, 1, 2]]).T\n",
    "\n",
    "print(np.linalg.matrix_rank(S))\n",
    "\n",
    "print(np.linalg.matrix_rank(T))\n",
    "\n",
    "print(np.linalg.matrix_rank(np.c_[S, v])) # v is not in the span of set S\n",
    "\n",
    "print(np.linalg.matrix_rank(np.c_[T, v])) # v is in the span of set T"
   ]
  }
 ],
 "metadata": {
  "kernelspec": {
   "display_name": "base",
   "language": "python",
   "name": "python3"
  },
  "language_info": {
   "codemirror_mode": {
    "name": "ipython",
    "version": 3
   },
   "file_extension": ".py",
   "mimetype": "text/x-python",
   "name": "python",
   "nbconvert_exporter": "python",
   "pygments_lexer": "ipython3",
   "version": "3.11.7"
  }
 },
 "nbformat": 4,
 "nbformat_minor": 2
}
