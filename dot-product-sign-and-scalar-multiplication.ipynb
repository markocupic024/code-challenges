{
 "cells": [
  {
   "cell_type": "markdown",
   "metadata": {},
   "source": [
    "soft proof that dot product sign is invariant to scalar multiplication"
   ]
  },
  {
   "cell_type": "code",
   "execution_count": 2,
   "metadata": {},
   "outputs": [],
   "source": [
    "import numpy as np"
   ]
  },
  {
   "cell_type": "code",
   "execution_count": 6,
   "metadata": {},
   "outputs": [
    {
     "name": "stdout",
     "output_type": "stream",
     "text": [
      "-3\n",
      "-150\n"
     ]
    }
   ],
   "source": [
    "v1 = np.array([-3, 4, 6])\n",
    "\n",
    "v2 = np.array([3, 6, -3])\n",
    "\n",
    "s1 = 5\n",
    "\n",
    "s2 = 10\n",
    "\n",
    "print(v1.dot(v2))\n",
    "\n",
    "print((v1 * s1).dot((v2 * s2)))"
   ]
  },
  {
   "cell_type": "code",
   "execution_count": null,
   "metadata": {},
   "outputs": [],
   "source": []
  }
 ],
 "metadata": {
  "kernelspec": {
   "display_name": "base",
   "language": "python",
   "name": "python3"
  },
  "language_info": {
   "codemirror_mode": {
    "name": "ipython",
    "version": 3
   },
   "file_extension": ".py",
   "mimetype": "text/x-python",
   "name": "python",
   "nbconvert_exporter": "python",
   "pygments_lexer": "ipython3",
   "version": "3.11.7"
  }
 },
 "nbformat": 4,
 "nbformat_minor": 2
}
