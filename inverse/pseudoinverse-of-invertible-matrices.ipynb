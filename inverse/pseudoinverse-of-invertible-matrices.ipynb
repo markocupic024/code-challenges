{
 "cells": [
  {
   "cell_type": "code",
   "execution_count": 1,
   "metadata": {},
   "outputs": [],
   "source": [
    "import numpy as np"
   ]
  },
  {
   "cell_type": "code",
   "execution_count": 2,
   "metadata": {},
   "outputs": [
    {
     "name": "stdout",
     "output_type": "stream",
     "text": [
      "[[-0.49407399  0.65443139  0.49851098]\n",
      " [ 1.03100548 -1.48168818  1.41300522]\n",
      " [ 0.29341195  1.4578594  -1.48591394]]\n",
      "[[-0.49407399  0.65443139  0.49851098]\n",
      " [ 1.03100548 -1.48168818  1.41300522]\n",
      " [ 0.29341195  1.4578594  -1.48591394]]\n"
     ]
    }
   ],
   "source": [
    "A = np.random.rand(3, 3)\n",
    "\n",
    "print(np.linalg.inv(A))\n",
    "\n",
    "print(np.linalg.pinv(A))"
   ]
  }
 ],
 "metadata": {
  "kernelspec": {
   "display_name": "base",
   "language": "python",
   "name": "python3"
  },
  "language_info": {
   "codemirror_mode": {
    "name": "ipython",
    "version": 3
   },
   "file_extension": ".py",
   "mimetype": "text/x-python",
   "name": "python",
   "nbconvert_exporter": "python",
   "pygments_lexer": "ipython3",
   "version": "3.11.7"
  }
 },
 "nbformat": 4,
 "nbformat_minor": 2
}
