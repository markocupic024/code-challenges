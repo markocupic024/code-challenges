{
 "cells": [
  {
   "cell_type": "code",
   "execution_count": 1,
   "metadata": {},
   "outputs": [],
   "source": [
    "import numpy as np"
   ]
  },
  {
   "cell_type": "code",
   "execution_count": 11,
   "metadata": {},
   "outputs": [
    {
     "name": "stdout",
     "output_type": "stream",
     "text": [
      "[[0.5 0. ]\n",
      " [0.  0.2]]\n",
      "[[ 3.18531322  0.          0.          0.          0.        ]\n",
      " [ 0.          1.50574961  0.          0.          0.        ]\n",
      " [ 0.          0.          1.18170318  0.          0.        ]\n",
      " [ 0.          0.          0.         15.87735721  0.        ]\n",
      " [ 0.          0.          0.          0.          2.55566943]]\n"
     ]
    }
   ],
   "source": [
    "A = np.array([[2, 0], [0, 5]])\n",
    "\n",
    "print(np.linalg.inv(A))\n",
    "\n",
    "B = np.diag(np.diag(np.random.rand(5,5)))\n",
    "\n",
    "print(np.linalg.inv(B))\n",
    "\n"
   ]
  }
 ],
 "metadata": {
  "kernelspec": {
   "display_name": "base",
   "language": "python",
   "name": "python3"
  },
  "language_info": {
   "codemirror_mode": {
    "name": "ipython",
    "version": 3
   },
   "file_extension": ".py",
   "mimetype": "text/x-python",
   "name": "python",
   "nbconvert_exporter": "python",
   "pygments_lexer": "ipython3",
   "version": "3.11.7"
  }
 },
 "nbformat": 4,
 "nbformat_minor": 2
}
