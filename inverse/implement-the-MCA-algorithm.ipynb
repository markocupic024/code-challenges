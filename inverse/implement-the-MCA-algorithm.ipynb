{
 "cells": [
  {
   "cell_type": "code",
   "execution_count": 1,
   "metadata": {},
   "outputs": [],
   "source": [
    "import numpy as np"
   ]
  },
  {
   "cell_type": "code",
   "execution_count": 26,
   "metadata": {},
   "outputs": [
    {
     "name": "stdout",
     "output_type": "stream",
     "text": [
      "[[-0.88129524 -1.65219038  0.54486155]\n",
      " [-0.80023978  0.83807099  0.7120247 ]\n",
      " [ 0.90073383  2.22849343  1.06358561]]\n",
      "[[-0.88129524  1.65219038  0.54486155]\n",
      " [ 0.80023978  0.83807099 -0.7120247 ]\n",
      " [ 0.90073383 -2.22849343  1.06358561]]\n"
     ]
    }
   ],
   "source": [
    "A = np.random.rand(3,3)\n",
    "\n",
    "M = np.zeros((3,3))\n",
    "\n",
    "H = np.zeros((3,3))\n",
    "\n",
    "for i in range(A.shape[0]):\n",
    "    for j in range(A.shape[1]):\n",
    "        detMatrix = np.delete(np.delete(A, i, 0), j, 1)\n",
    "        M[i][j] = np.linalg.det(detMatrix)\n",
    "        H[i][j] = 1**(i+j)\n",
    "\n",
    "C = M*H\n",
    "\n",
    "Ainverse = C.T*(1/np.linalg.det(A))\n",
    "\n",
    "print(Ainverse)\n",
    "\n",
    "print(np.linalg.inv(A))\n",
    "\n"
   ]
  }
 ],
 "metadata": {
  "kernelspec": {
   "display_name": "base",
   "language": "python",
   "name": "python3"
  },
  "language_info": {
   "codemirror_mode": {
    "name": "ipython",
    "version": 3
   },
   "file_extension": ".py",
   "mimetype": "text/x-python",
   "name": "python",
   "nbconvert_exporter": "python",
   "pygments_lexer": "ipython3",
   "version": "3.11.7"
  }
 },
 "nbformat": 4,
 "nbformat_minor": 2
}
