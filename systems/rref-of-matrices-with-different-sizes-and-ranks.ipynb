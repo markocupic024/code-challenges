{
 "cells": [
  {
   "cell_type": "code",
   "execution_count": 3,
   "metadata": {},
   "outputs": [],
   "source": [
    "import numpy as np\n",
    "from sympy import Matrix"
   ]
  },
  {
   "cell_type": "code",
   "execution_count": 16,
   "metadata": {},
   "outputs": [
    {
     "name": "stdout",
     "output_type": "stream",
     "text": [
      "[[1 0 0 0]\n",
      " [0 1 0 0]\n",
      " [0 0 1 0]\n",
      " [0 0 0 1]]\n",
      "[[1 0 0 0]\n",
      " [0 1 0 0]\n",
      " [0 0 1 0]\n",
      " [0 0 0 1]\n",
      " [0 0 0 0]]\n",
      "[[1 0 0 0 -0.400794564960779]\n",
      " [0 1 0 0 -3.59297923261693]\n",
      " [0 0 1 0 5.08577251598124]\n",
      " [0 0 0 1 -0.522625758227887]]\n",
      "[[1 0 0 0]\n",
      " [0 1 0 0]\n",
      " [0 0 1 1.00000000000000]\n",
      " [0 0 0 0]]\n"
     ]
    }
   ],
   "source": [
    "def rref(M):\n",
    "    return np.array(Matrix(M).rref()[0])\n",
    "\n",
    "m = 5\n",
    "\n",
    "n = 4\n",
    "\n",
    "A = np.random.rand(4, 4)\n",
    "\n",
    "B =  np.random.rand(5, 4)\n",
    "\n",
    "C = np.random.rand(4, 5)\n",
    "\n",
    "print(rref(A))\n",
    "\n",
    "print(rref(B))\n",
    "\n",
    "print(rref(C))\n",
    "\n",
    "A[:,-2] = A[:,-1]\n",
    "\n",
    "print(rref(A))\n",
    "\n"
   ]
  }
 ],
 "metadata": {
  "kernelspec": {
   "display_name": "base",
   "language": "python",
   "name": "python3"
  },
  "language_info": {
   "codemirror_mode": {
    "name": "ipython",
    "version": 3
   },
   "file_extension": ".py",
   "mimetype": "text/x-python",
   "name": "python",
   "nbconvert_exporter": "python",
   "pygments_lexer": "ipython3",
   "version": "3.11.7"
  }
 },
 "nbformat": 4,
 "nbformat_minor": 2
}
