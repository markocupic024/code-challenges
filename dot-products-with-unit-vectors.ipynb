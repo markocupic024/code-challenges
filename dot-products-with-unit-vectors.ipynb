{
 "cells": [
  {
   "cell_type": "markdown",
   "metadata": {},
   "source": [
    "create two random-integer vectors\n",
    "\n",
    "compute the lengths of the individual vectors, and magnitude their dot product\n",
    "\n",
    "\"normalize\" the vectors \n",
    "\n",
    "compute the magnitude of that dot product"
   ]
  },
  {
   "cell_type": "code",
   "execution_count": 1,
   "metadata": {},
   "outputs": [],
   "source": [
    "import numpy as np"
   ]
  },
  {
   "cell_type": "code",
   "execution_count": 55,
   "metadata": {},
   "outputs": [
    {
     "name": "stdout",
     "output_type": "stream",
     "text": [
      "70.35623639735144\n",
      "38.961519477556315\n",
      "2273\n",
      "0.01421338109037403\n",
      "0.025666350116967267\n",
      "[0.35533453 0.59696201 0.62538877 0.35533453]\n",
      "[0.23099715 0.8726559  0.12833175 0.4106616 ]\n",
      "0.8292031638301618\n"
     ]
    }
   ],
   "source": [
    "v1 = np.random.randint(50, size=4)\n",
    "\n",
    "v2 = np.random.randint(50, size=4)\n",
    "\n",
    "v1m = np.linalg.norm(v1)\n",
    "\n",
    "print(v1m)\n",
    "\n",
    "v2m = np.linalg.norm(v2)\n",
    "\n",
    "print(v2m)\n",
    "\n",
    "dpm = np.abs(v1.dot(v2))\n",
    "print(dpm)\n",
    "\n",
    "v1us = 1/v1m\n",
    "\n",
    "print(v1us)\n",
    "\n",
    "v2us = 1/v2m\n",
    "\n",
    "print(v2us)\n",
    "\n",
    "v1u = v1*v1us\n",
    "\n",
    "print(v1u)\n",
    "\n",
    "v2u = v2*v2us\n",
    "\n",
    "print(v2u)\n",
    "\n",
    "udpm = np.abs(v1u.dot(v2u))\n",
    "\n",
    "print(udpm)\n",
    "\n",
    "\n",
    "\n",
    "\n"
   ]
  },
  {
   "cell_type": "code",
   "execution_count": null,
   "metadata": {},
   "outputs": [],
   "source": []
  }
 ],
 "metadata": {
  "kernelspec": {
   "display_name": "base",
   "language": "python",
   "name": "python3"
  },
  "language_info": {
   "codemirror_mode": {
    "name": "ipython",
    "version": 3
   },
   "file_extension": ".py",
   "mimetype": "text/x-python",
   "name": "python",
   "nbconvert_exporter": "python",
   "pygments_lexer": "ipython3",
   "version": "3.11.7"
  }
 },
 "nbformat": 4,
 "nbformat_minor": 2
}
