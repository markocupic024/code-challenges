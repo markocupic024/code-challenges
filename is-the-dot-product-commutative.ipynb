{
 "cells": [
  {
   "cell_type": "code",
   "execution_count": 1,
   "metadata": {},
   "outputs": [],
   "source": [
    "import numpy as np"
   ]
  },
  {
   "cell_type": "code",
   "execution_count": 24,
   "metadata": {},
   "outputs": [
    {
     "name": "stdout",
     "output_type": "stream",
     "text": [
      "25.88391721712702\n",
      "25.88391721712702\n",
      "1\n",
      "1\n"
     ]
    }
   ],
   "source": [
    "v1r = np.random.rand(100)\n",
    "\n",
    "v2r = np.random.rand(100)\n",
    "\n",
    "dp1r = np.dot(v1r, v2r)\n",
    "\n",
    "print(dp1r)\n",
    "\n",
    "dp2r = np.dot(v2r, v1r)\n",
    "\n",
    "print(dp2r)\n",
    "\n",
    "v1i = np.random.randint(2, size=2)\n",
    "\n",
    "v2i = np.random.randint(2, size=2)\n",
    "\n",
    "dp1i = np.dot(v1i, v2i)\n",
    "\n",
    "print(dp1i)\n",
    "\n",
    "dp2i = np.dot(v2i, v1i)\n",
    "\n",
    "print(dp2i)\n",
    "\n"
   ]
  },
  {
   "cell_type": "code",
   "execution_count": null,
   "metadata": {},
   "outputs": [],
   "source": []
  }
 ],
 "metadata": {
  "kernelspec": {
   "display_name": "base",
   "language": "python",
   "name": "python3"
  },
  "language_info": {
   "codemirror_mode": {
    "name": "ipython",
    "version": 3
   },
   "file_extension": ".py",
   "mimetype": "text/x-python",
   "name": "python",
   "nbconvert_exporter": "python",
   "pygments_lexer": "ipython3",
   "version": "3.11.7"
  }
 },
 "nbformat": 4,
 "nbformat_minor": 2
}
