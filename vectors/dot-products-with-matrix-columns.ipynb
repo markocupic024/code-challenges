{
 "cells": [
  {
   "cell_type": "markdown",
   "metadata": {},
   "source": [
    "create 2 4x6 matrices of random numbers.\n",
    "use for-loop to compute dot product between corresponding columns."
   ]
  },
  {
   "cell_type": "code",
   "execution_count": 2,
   "metadata": {},
   "outputs": [],
   "source": [
    "import numpy as np"
   ]
  },
  {
   "cell_type": "code",
   "execution_count": 4,
   "metadata": {},
   "outputs": [
    {
     "data": {
      "text/plain": [
       "array([1.2526108 , 1.62837014, 0.83840526, 1.01650027, 1.56143025,\n",
       "       1.57044859])"
      ]
     },
     "execution_count": 4,
     "metadata": {},
     "output_type": "execute_result"
    }
   ],
   "source": [
    "A = np.random.random((4, 6))\n",
    "B = np.random.random((4, 6))\n",
    "\n",
    "dps = np.zeros(A.shape[1])\n",
    "\n",
    "for i in range(A.shape[1]):\n",
    "    dps[i] = np.dot(A[:, i], B[:, i])\n",
    "\n",
    "dps\n",
    "    "
   ]
  },
  {
   "cell_type": "code",
   "execution_count": null,
   "metadata": {},
   "outputs": [],
   "source": []
  }
 ],
 "metadata": {
  "kernelspec": {
   "display_name": "base",
   "language": "python",
   "name": "python3"
  },
  "language_info": {
   "codemirror_mode": {
    "name": "ipython",
    "version": 3
   },
   "file_extension": ".py",
   "mimetype": "text/x-python",
   "name": "python",
   "nbconvert_exporter": "python",
   "pygments_lexer": "ipython3",
   "version": "3.11.7"
  }
 },
 "nbformat": 4,
 "nbformat_minor": 2
}
