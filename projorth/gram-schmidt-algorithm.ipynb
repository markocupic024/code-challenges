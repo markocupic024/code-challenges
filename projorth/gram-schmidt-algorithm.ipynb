{
 "cells": [
  {
   "cell_type": "code",
   "execution_count": 1,
   "metadata": {},
   "outputs": [],
   "source": [
    "import numpy as np"
   ]
  },
  {
   "cell_type": "code",
   "execution_count": 66,
   "metadata": {},
   "outputs": [
    {
     "name": "stdout",
     "output_type": "stream",
     "text": [
      "[[ 0.39432346  0.02336904 -0.22779608]\n",
      " [ 0.26540886 -0.47501778  0.82079727]\n",
      " [ 0.00263574  0.51780639  0.41273136]\n",
      " [ 0.60588013  0.59716542  0.10723298]\n",
      " [ 0.63794158 -0.38611138 -0.30422804]]\n",
      "[[-0.39432346  0.02336904  0.22779608]\n",
      " [-0.26540886 -0.47501778 -0.82079727]\n",
      " [-0.00263574  0.51780639 -0.41273136]\n",
      " [-0.60588013  0.59716542 -0.10723298]\n",
      " [-0.63794158 -0.38611138  0.30422804]]\n"
     ]
    }
   ],
   "source": [
    "A = np.random.rand(5,3)\n",
    "\n",
    "def pc(a, b):\n",
    "   return (a.dot(b)/b.dot(b))*b\n",
    "\n",
    "def gs(M):\n",
    "    Q = np.zeros((M.shape))\n",
    "    Q[:, 0] = M[:, 0]\n",
    "\n",
    "    for i in range(1, M.shape[1]):\n",
    "        Q[:, i] = M[:, i]\n",
    "        for j in range(i):\n",
    "            Q[:, i] -= pc(M[:, i], Q[:, j])\n",
    "\n",
    "    for i in range(Q.shape[1]):\n",
    "        Q[:, i] = Q[:, i]/np.linalg.norm(Q[:, i])\n",
    "\n",
    "    return Q\n",
    "\n",
    "Q = gs(A)\n",
    "\n",
    "print(Q)\n",
    "\n",
    "print(np.linalg.qr(A)[0])"
   ]
  }
 ],
 "metadata": {
  "kernelspec": {
   "display_name": "base",
   "language": "python",
   "name": "python3"
  },
  "language_info": {
   "codemirror_mode": {
    "name": "ipython",
    "version": 3
   },
   "file_extension": ".py",
   "mimetype": "text/x-python",
   "name": "python",
   "nbconvert_exporter": "python",
   "pygments_lexer": "ipython3",
   "version": "3.11.7"
  }
 },
 "nbformat": 4,
 "nbformat_minor": 2
}
