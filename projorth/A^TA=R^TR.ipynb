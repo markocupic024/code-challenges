{
 "cells": [
  {
   "cell_type": "code",
   "execution_count": 1,
   "id": "2cd88c8b-f02e-4c19-a4b7-902f514ec342",
   "metadata": {},
   "outputs": [],
   "source": [
    "import numpy as np"
   ]
  },
  {
   "cell_type": "code",
   "execution_count": 2,
   "id": "08c0113e-0b92-43b5-b2f2-496059050388",
   "metadata": {},
   "outputs": [
    {
     "name": "stdout",
     "output_type": "stream",
     "text": [
      "[[2.03012656 1.27730234 1.48198378 1.48677857]\n",
      " [1.27730234 1.34932629 1.10963315 1.27575862]\n",
      " [1.48198378 1.10963315 1.51659923 1.64158103]\n",
      " [1.48677857 1.27575862 1.64158103 1.90022295]]\n",
      "[[2.03012656 1.27730234 1.48198378 1.48677857]\n",
      " [1.27730234 1.34932629 1.10963315 1.27575862]\n",
      " [1.48198378 1.10963315 1.51659923 1.64158103]\n",
      " [1.48677857 1.27575862 1.64158103 1.90022295]]\n"
     ]
    }
   ],
   "source": [
    "A = np.random.rand(4,4)\n",
    "\n",
    "Q,R = np.linalg.qr(A)\n",
    "\n",
    "print(A.T@A)\n",
    "print(R.T@R)"
   ]
  }
 ],
 "metadata": {
  "kernelspec": {
   "display_name": "Python 3 (ipykernel)",
   "language": "python",
   "name": "python3"
  },
  "language_info": {
   "codemirror_mode": {
    "name": "ipython",
    "version": 3
   },
   "file_extension": ".py",
   "mimetype": "text/x-python",
   "name": "python",
   "nbconvert_exporter": "python",
   "pygments_lexer": "ipython3",
   "version": "3.11.7"
  }
 },
 "nbformat": 4,
 "nbformat_minor": 5
}
