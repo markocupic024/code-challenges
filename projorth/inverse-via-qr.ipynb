{
 "cells": [
  {
   "cell_type": "code",
   "execution_count": 2,
   "metadata": {},
   "outputs": [],
   "source": [
    "import numpy as np"
   ]
  },
  {
   "cell_type": "code",
   "execution_count": 11,
   "metadata": {},
   "outputs": [
    {
     "name": "stdout",
     "output_type": "stream",
     "text": [
      "[[-0. -0. -0. ...  0. -0.  0.]\n",
      " [ 0. -0. -0. ...  0. -0. -0.]\n",
      " [ 0.  0.  0. ... -0.  0.  0.]\n",
      " ...\n",
      " [-0.  0.  0. ... -0.  0.  0.]\n",
      " [-0.  0.  0. ...  0.  0.  0.]\n",
      " [-0.  0.  0. ...  0.  0.  0.]]\n"
     ]
    }
   ],
   "source": [
    "A = np.random.rand(100, 100)\n",
    "\n",
    "Q, R = np.linalg.qr(A)\n",
    "\n",
    "Ainv = np.linalg.inv(R)@Q.T\n",
    "\n",
    "print(np.round(Ainv-np.linalg.inv(A)))"
   ]
  }
 ],
 "metadata": {
  "kernelspec": {
   "display_name": "Python 3 (ipykernel)",
   "language": "python",
   "name": "python3"
  },
  "language_info": {
   "codemirror_mode": {
    "name": "ipython",
    "version": 3
   },
   "file_extension": ".py",
   "mimetype": "text/x-python",
   "name": "python",
   "nbconvert_exporter": "python",
   "pygments_lexer": "ipython3",
   "version": "3.11.7"
  }
 },
 "nbformat": 4,
 "nbformat_minor": 4
}
