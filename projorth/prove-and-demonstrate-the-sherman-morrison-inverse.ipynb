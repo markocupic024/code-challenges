{
 "cells": [
  {
   "cell_type": "code",
   "execution_count": 1,
   "id": "97c47b49-368c-487d-8fe0-7acad07a3dbf",
   "metadata": {},
   "outputs": [],
   "source": [
    "import numpy as np"
   ]
  },
  {
   "cell_type": "code",
   "execution_count": 9,
   "id": "2d5ff546-7ced-43f8-ab07-ff931dcc4dfe",
   "metadata": {},
   "outputs": [
    {
     "name": "stdout",
     "output_type": "stream",
     "text": [
      "[[ 1. -0.  0.  0.  0.]\n",
      " [ 0.  1. -0. -0.  0.]\n",
      " [-0.  0.  1.  0.  0.]\n",
      " [-0. -0. -0.  1. -0.]\n",
      " [-0.  0.  0.  0.  1.]]\n"
     ]
    }
   ],
   "source": [
    "a = np.random.rand(5)\n",
    "b = np.random.rand(5)\n",
    "\n",
    "A = np.eye(5) - np.outer(a,b)\n",
    "\n",
    "Ai = np.eye(5) + np.outer(a,b)/(1 - np.dot(a,b))\n",
    "\n",
    "print(np.round(A@Ai))"
   ]
  }
 ],
 "metadata": {
  "kernelspec": {
   "display_name": "Python 3 (ipykernel)",
   "language": "python",
   "name": "python3"
  },
  "language_info": {
   "codemirror_mode": {
    "name": "ipython",
    "version": 3
   },
   "file_extension": ".py",
   "mimetype": "text/x-python",
   "name": "python",
   "nbconvert_exporter": "python",
   "pygments_lexer": "ipython3",
   "version": "3.11.7"
  }
 },
 "nbformat": 4,
 "nbformat_minor": 5
}
