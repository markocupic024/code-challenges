{
 "cells": [
  {
   "cell_type": "code",
   "execution_count": 1,
   "id": "e8e65a22-a22e-4317-8610-23fd777816b0",
   "metadata": {},
   "outputs": [],
   "source": [
    "import numpy as np"
   ]
  },
  {
   "cell_type": "code",
   "execution_count": 38,
   "id": "0dc4b3ac-6930-4bfc-bfbc-a595caf31f83",
   "metadata": {},
   "outputs": [
    {
     "name": "stdout",
     "output_type": "stream",
     "text": [
      "0.9999999999999999\n",
      "1.0\n",
      "0.9999999999999999\n",
      "[[ 1.00000000e+00 -4.99600361e-16  4.44089210e-16 -1.11022302e-16]\n",
      " [ 3.33066907e-16  1.00000000e+00 -2.22044605e-16 -1.38777878e-16]\n",
      " [-4.44089210e-16  2.77555756e-16  1.00000000e+00  1.66533454e-16]\n",
      " [ 1.11022302e-16  1.38777878e-16 -1.66533454e-16  1.00000000e+00]]\n"
     ]
    }
   ],
   "source": [
    "A = np.random.rand(4,4)\n",
    "\n",
    "A = A@A.T\n",
    "\n",
    "U, S, V = np.linalg.svd(A)\n",
    "\n",
    "print(np.linalg.norm(U,2))\n",
    "print(np.linalg.norm(V,2))\n",
    "print(np.linalg.norm(U@V,2))\n",
    "\n",
    "print(U@V)"
   ]
  }
 ],
 "metadata": {
  "kernelspec": {
   "display_name": "Python 3 (ipykernel)",
   "language": "python",
   "name": "python3"
  },
  "language_info": {
   "codemirror_mode": {
    "name": "ipython",
    "version": 3
   },
   "file_extension": ".py",
   "mimetype": "text/x-python",
   "name": "python",
   "nbconvert_exporter": "python",
   "pygments_lexer": "ipython3",
   "version": "3.11.7"
  }
 },
 "nbformat": 4,
 "nbformat_minor": 5
}
