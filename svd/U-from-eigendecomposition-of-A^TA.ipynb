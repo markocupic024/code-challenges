{
 "cells": [
  {
   "cell_type": "code",
   "execution_count": 2,
   "id": "12753934-8dd8-4202-ae50-2ae37961307f",
   "metadata": {},
   "outputs": [],
   "source": [
    "import numpy as np"
   ]
  },
  {
   "cell_type": "code",
   "execution_count": 9,
   "id": "a9cfa8c6-8c1c-4b4b-af29-662151d821cf",
   "metadata": {},
   "outputs": [
    {
     "name": "stdout",
     "output_type": "stream",
     "text": [
      "[[ 0.69415078 -0.02758164 -0.71930101]\n",
      " [ 0.4140667  -0.80209212  0.4303452 ]\n",
      " [ 0.5888153   0.59656306  0.54535223]]\n"
     ]
    },
    {
     "data": {
      "text/plain": [
       "array([[-0.69415078, -0.02758164, -0.71930101],\n",
       "       [-0.4140667 , -0.80209212,  0.4303452 ],\n",
       "       [-0.5888153 ,  0.59656306,  0.54535223]])"
      ]
     },
     "execution_count": 9,
     "metadata": {},
     "output_type": "execute_result"
    }
   ],
   "source": [
    "m = 3\n",
    "\n",
    "A = np.random.rand(m, 6)\n",
    "\n",
    "Us, Ss, Vs = np.linalg.svd(A)\n",
    "\n",
    "L, V = np.linalg.eig(A.T@A)\n",
    "\n",
    "U = np.zeros((m, m))\n",
    "\n",
    "for i in range(m):\n",
    "    U[:, i] = A@V[:, i]/np.sqrt(L[i])\n",
    "\n",
    "print(Us)\n",
    "\n",
    "U"
   ]
  },
  {
   "cell_type": "code",
   "execution_count": null,
   "id": "970431ec-c77c-4c63-a76c-76251026766a",
   "metadata": {},
   "outputs": [],
   "source": []
  }
 ],
 "metadata": {
  "kernelspec": {
   "display_name": "Python 3 (ipykernel)",
   "language": "python",
   "name": "python3"
  },
  "language_info": {
   "codemirror_mode": {
    "name": "ipython",
    "version": 3
   },
   "file_extension": ".py",
   "mimetype": "text/x-python",
   "name": "python",
   "nbconvert_exporter": "python",
   "pygments_lexer": "ipython3",
   "version": "3.11.7"
  }
 },
 "nbformat": 4,
 "nbformat_minor": 5
}
