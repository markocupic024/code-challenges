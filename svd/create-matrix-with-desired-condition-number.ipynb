{
 "cells": [
  {
   "cell_type": "code",
   "execution_count": 1,
   "id": "81add89c-062d-41ee-a2cd-336180087447",
   "metadata": {},
   "outputs": [],
   "source": [
    "import numpy as np"
   ]
  },
  {
   "cell_type": "code",
   "execution_count": 48,
   "id": "cd8f57bd-42fa-4a02-adfd-8679e6ff58a9",
   "metadata": {},
   "outputs": [
    {
     "data": {
      "text/plain": [
       "50.00000000000013"
      ]
     },
     "execution_count": 48,
     "metadata": {},
     "output_type": "execute_result"
    }
   ],
   "source": [
    "k = 50\n",
    "\n",
    "m = 7\n",
    "\n",
    "n = 10\n",
    "\n",
    "sv = np.linspace(k, 1, np.min([m,n]))\n",
    "\n",
    "S = np.zeros((m,n))\n",
    "\n",
    "np.fill_diagonal(S, sv)\n",
    "\n",
    "U, _ = np.linalg.qr(np.random.rand(m,m))\n",
    "\n",
    "V, _ = np.linalg.qr(np.random.rand(n,n))\n",
    "\n",
    "A = U@S@V.T\n",
    "\n",
    "np.linalg.cond(A)"
   ]
  }
 ],
 "metadata": {
  "kernelspec": {
   "display_name": "Python 3 (ipykernel)",
   "language": "python",
   "name": "python3"
  },
  "language_info": {
   "codemirror_mode": {
    "name": "ipython",
    "version": 3
   },
   "file_extension": ".py",
   "mimetype": "text/x-python",
   "name": "python",
   "nbconvert_exporter": "python",
   "pygments_lexer": "ipython3",
   "version": "3.11.7"
  }
 },
 "nbformat": 4,
 "nbformat_minor": 5
}
