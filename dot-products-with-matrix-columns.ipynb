{
 "cells": [
  {
   "cell_type": "markdown",
   "metadata": {},
   "source": [
    "create 2 4x6 matrices of random numbers.\n",
    "use for-loop to compute dot product between corresponding columns."
   ]
  },
  {
   "cell_type": "code",
   "execution_count": 2,
   "metadata": {},
   "outputs": [],
   "source": [
    "import numpy as np"
   ]
  },
  {
   "cell_type": "code",
   "execution_count": 42,
   "metadata": {},
   "outputs": [
    {
     "data": {
      "text/plain": [
       "array([0.93548606, 0.69987197, 1.35841825, 0.85027826, 0.51167979,\n",
       "       0.81759119])"
      ]
     },
     "execution_count": 42,
     "metadata": {},
     "output_type": "execute_result"
    }
   ],
   "source": [
    "a = np.random.random((4, 6))\n",
    "b = np.random.random((4, 6))\n",
    "\n",
    "dps = np.zeros(np.size(a, 1))\n",
    "\n",
    "for i in range(np.size(a, 1)):\n",
    "    dps[i] = np.dot(a.T[i],b.T[i])\n",
    "\n",
    "dps\n",
    "    "
   ]
  }
 ],
 "metadata": {
  "kernelspec": {
   "display_name": "base",
   "language": "python",
   "name": "python3"
  },
  "language_info": {
   "codemirror_mode": {
    "name": "ipython",
    "version": 3
   },
   "file_extension": ".py",
   "mimetype": "text/x-python",
   "name": "python",
   "nbconvert_exporter": "python",
   "pygments_lexer": "ipython3",
   "version": "3.11.7"
  }
 },
 "nbformat": 4,
 "nbformat_minor": 2
}
