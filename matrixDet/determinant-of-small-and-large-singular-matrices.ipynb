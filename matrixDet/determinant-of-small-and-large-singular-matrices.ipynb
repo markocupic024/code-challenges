{
 "cells": [
  {
   "cell_type": "code",
   "execution_count": 2,
   "metadata": {},
   "outputs": [],
   "source": [
    "import numpy as np"
   ]
  },
  {
   "cell_type": "code",
   "execution_count": 11,
   "metadata": {},
   "outputs": [
    {
     "name": "stdout",
     "output_type": "stream",
     "text": [
      "0.0\n",
      "0.0\n"
     ]
    }
   ],
   "source": [
    "A = np.random.randint(5, size=(2, 2))\n",
    "\n",
    "A[:, 0] = A[:, 1]\n",
    "\n",
    "print(np.linalg.det(A))\n",
    "\n",
    "B = np.random.rand(50, 50)\n",
    "\n",
    "B[:, -1] = B[:, -2]\n",
    "\n",
    "print(np.linalg.det(B))"
   ]
  }
 ],
 "metadata": {
  "kernelspec": {
   "display_name": "base",
   "language": "python",
   "name": "python3"
  },
  "language_info": {
   "codemirror_mode": {
    "name": "ipython",
    "version": 3
   },
   "file_extension": ".py",
   "mimetype": "text/x-python",
   "name": "python",
   "nbconvert_exporter": "python",
   "pygments_lexer": "ipython3",
   "version": "3.11.7"
  }
 },
 "nbformat": 4,
 "nbformat_minor": 2
}
