{
 "cells": [
  {
   "cell_type": "code",
   "execution_count": 1,
   "metadata": {},
   "outputs": [],
   "source": [
    "import numpy as np"
   ]
  },
  {
   "cell_type": "code",
   "execution_count": 44,
   "metadata": {},
   "outputs": [
    {
     "name": "stdout",
     "output_type": "stream",
     "text": [
      "-20.001643006755977\n",
      "20.001643006755977\n",
      "-20.001643006755977\n"
     ]
    }
   ],
   "source": [
    "A = np.random.randn(6,6)\n",
    "\n",
    "print(np.linalg.det(A))\n",
    "\n",
    "As = A[[1, 0, 2, 3, 4, 5], :]\n",
    "\n",
    "print(np.linalg.det(As))\n",
    "\n",
    "Ass = A[[1, 0, 2, 4, 3, 5], :]\n",
    "\n",
    "print(np.linalg.det(Ass))"
   ]
  }
 ],
 "metadata": {
  "kernelspec": {
   "display_name": "base",
   "language": "python",
   "name": "python3"
  },
  "language_info": {
   "codemirror_mode": {
    "name": "ipython",
    "version": 3
   },
   "file_extension": ".py",
   "mimetype": "text/x-python",
   "name": "python",
   "nbconvert_exporter": "python",
   "pygments_lexer": "ipython3",
   "version": "3.11.7"
  }
 },
 "nbformat": 4,
 "nbformat_minor": 2
}
