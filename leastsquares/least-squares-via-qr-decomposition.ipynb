{
 "cells": [
  {
   "cell_type": "code",
   "execution_count": 1,
   "id": "e2e2f3f8-f749-4742-b76a-d10799734dce",
   "metadata": {},
   "outputs": [],
   "source": [
    "import numpy as np"
   ]
  },
  {
   "cell_type": "code",
   "execution_count": 14,
   "id": "ac10c462-1039-46c8-a5e7-464ae9721aec",
   "metadata": {},
   "outputs": [
    {
     "name": "stdout",
     "output_type": "stream",
     "text": [
      "[[-0.21652117]\n",
      " [ 0.37016307]\n",
      " [ 0.54502528]]\n",
      "[[-0.21652117]\n",
      " [ 0.37016307]\n",
      " [ 0.54502528]]\n"
     ]
    }
   ],
   "source": [
    "m = 10\n",
    "n = 3\n",
    "\n",
    "X = np.random.rand(m, n)\n",
    "\n",
    "y = np.random.rand(m, 1)\n",
    "\n",
    "Q,R = np.linalg.qr(X, 'complete')\n",
    "\n",
    "b = np.linalg.solve(R.T@R,(Q@R).T@y)\n",
    "\n",
    "b1 = np.linalg.lstsq(X, y, rcond=None)[0]\n",
    "\n",
    "print(b)\n",
    "\n",
    "print(b1)"
   ]
  }
 ],
 "metadata": {
  "kernelspec": {
   "display_name": "Python 3 (ipykernel)",
   "language": "python",
   "name": "python3"
  },
  "language_info": {
   "codemirror_mode": {
    "name": "ipython",
    "version": 3
   },
   "file_extension": ".py",
   "mimetype": "text/x-python",
   "name": "python",
   "nbconvert_exporter": "python",
   "pygments_lexer": "ipython3",
   "version": "3.11.7"
  }
 },
 "nbformat": 4,
 "nbformat_minor": 5
}
