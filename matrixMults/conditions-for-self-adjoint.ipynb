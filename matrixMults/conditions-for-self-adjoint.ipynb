{
 "cells": [
  {
   "cell_type": "code",
   "execution_count": 1,
   "metadata": {},
   "outputs": [],
   "source": [
    "import numpy as np"
   ]
  },
  {
   "cell_type": "code",
   "execution_count": 35,
   "metadata": {},
   "outputs": [
    {
     "name": "stdout",
     "output_type": "stream",
     "text": [
      "False\n",
      "True\n"
     ]
    }
   ],
   "source": [
    "n = 2\n",
    "\n",
    "A1 = np.random.rand(n, n)\n",
    "\n",
    "v = np.random.rand(n)\n",
    "\n",
    "w = np.random.rand(n)\n",
    "\n",
    "print(np.dot(A1@v, w) == v.dot(A1@w)) # A is not symmetric\n",
    "\n",
    "A2 = A1.T@A1\n",
    "\n",
    "print(np.dot(A2@v, w) == v.dot(A2@w)) # A is symmetric\n",
    "\n",
    "\n",
    "\n"
   ]
  }
 ],
 "metadata": {
  "kernelspec": {
   "display_name": "base",
   "language": "python",
   "name": "python3"
  },
  "language_info": {
   "codemirror_mode": {
    "name": "ipython",
    "version": 3
   },
   "file_extension": ".py",
   "mimetype": "text/x-python",
   "name": "python",
   "nbconvert_exporter": "python",
   "pygments_lexer": "ipython3",
   "version": "3.11.7"
  }
 },
 "nbformat": 4,
 "nbformat_minor": 2
}
