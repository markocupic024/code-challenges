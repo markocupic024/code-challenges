{
 "cells": [
  {
   "cell_type": "code",
   "execution_count": 1,
   "metadata": {},
   "outputs": [],
   "source": [
    "import numpy as np"
   ]
  },
  {
   "cell_type": "code",
   "execution_count": 18,
   "metadata": {},
   "outputs": [
    {
     "name": "stdout",
     "output_type": "stream",
     "text": [
      "[[224.83671263 168.79553837 162.67896614 191.35884771]\n",
      " [168.79553837 258.18304194 250.90600481 230.32397441]\n",
      " [162.67896614 250.90600481 298.33377011 285.55238026]\n",
      " [191.35884771 230.32397441 285.55238026 333.38037321]]\n",
      "[[31874.99681297 50667.62752507 56490.61488301 55796.64519522]\n",
      " [27294.09515896 43918.91741426 48550.2447615  47842.56630768]\n",
      " [30252.03256616 48489.81992611 54190.53550071 54453.55117403]\n",
      " [34053.6213141  54358.25645436 60871.26303535 61093.65463666]]\n",
      "[[10750.94518575  6665.23399582  5368.74741039  9090.07022101]\n",
      " [ 6665.23399582 14029.25005101 12314.92669391 10909.50667352]\n",
      " [ 5368.74741039 12314.92669391 19032.05991922 17474.80147719]\n",
      " [ 9090.07022101 10909.50667352 17474.80147719 23619.27626494]]\n"
     ]
    }
   ],
   "source": [
    "A = 10*np.random.rand(4, 4)\n",
    "\n",
    "B = 10*np.random.rand(4, 4)\n",
    "\n",
    "S1 = A@A.T\n",
    "\n",
    "S2 = B@B.T\n",
    "\n",
    "print(S1+S2)\n",
    "\n",
    "print(S1@S2) # not symmetric\n",
    "\n",
    "print(S1*S2)\n"
   ]
  },
  {
   "cell_type": "code",
   "execution_count": null,
   "metadata": {},
   "outputs": [],
   "source": []
  }
 ],
 "metadata": {
  "kernelspec": {
   "display_name": "base",
   "language": "python",
   "name": "python3"
  },
  "language_info": {
   "codemirror_mode": {
    "name": "ipython",
    "version": 3
   },
   "file_extension": ".py",
   "mimetype": "text/x-python",
   "name": "python",
   "nbconvert_exporter": "python",
   "pygments_lexer": "ipython3",
   "version": "3.11.7"
  }
 },
 "nbformat": 4,
 "nbformat_minor": 2
}
