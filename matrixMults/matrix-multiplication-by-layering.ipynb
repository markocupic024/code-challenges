{
 "cells": [
  {
   "cell_type": "code",
   "execution_count": 2,
   "metadata": {},
   "outputs": [],
   "source": [
    "import numpy as np"
   ]
  },
  {
   "cell_type": "code",
   "execution_count": 43,
   "metadata": {},
   "outputs": [
    {
     "name": "stdout",
     "output_type": "stream",
     "text": [
      "[[1.5969189  1.12895424 1.92351006 1.174624  ]\n",
      " [0.92127168 0.89056599 1.11975786 1.26672986]\n",
      " [1.93005073 2.25679002 2.23320795 2.0071676 ]\n",
      " [1.94237207 1.0110897  2.34057871 1.33724715]]\n"
     ]
    },
    {
     "data": {
      "text/plain": [
       "array([[1.5969189 , 1.12895424, 1.92351006, 1.174624  ],\n",
       "       [0.92127168, 0.89056599, 1.11975786, 1.26672986],\n",
       "       [1.93005073, 2.25679002, 2.23320795, 2.0071676 ],\n",
       "       [1.94237207, 1.0110897 , 2.34057871, 1.33724715]])"
      ]
     },
     "execution_count": 43,
     "metadata": {},
     "output_type": "execute_result"
    }
   ],
   "source": [
    "A = np.random.rand(4, 6)\n",
    "\n",
    "B = np.random.rand(6, 4)\n",
    "\n",
    "C = np.zeros((4, 4))\n",
    "\n",
    "for i in range(6):\n",
    "   C += np.outer(A[:, i],  B[i, :])\n",
    "\n",
    "print(C)\n",
    "\n",
    "A@B\n"
   ]
  },
  {
   "cell_type": "code",
   "execution_count": null,
   "metadata": {},
   "outputs": [],
   "source": []
  }
 ],
 "metadata": {
  "kernelspec": {
   "display_name": "base",
   "language": "python",
   "name": "python3"
  },
  "language_info": {
   "codemirror_mode": {
    "name": "ipython",
    "version": 3
   },
   "file_extension": ".py",
   "mimetype": "text/x-python",
   "name": "python",
   "nbconvert_exporter": "python",
   "pygments_lexer": "ipython3",
   "version": "3.11.7"
  }
 },
 "nbformat": 4,
 "nbformat_minor": 2
}
