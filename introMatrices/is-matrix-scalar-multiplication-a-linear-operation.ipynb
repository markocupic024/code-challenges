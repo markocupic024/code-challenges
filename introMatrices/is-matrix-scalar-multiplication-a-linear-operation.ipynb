{
 "cells": [
  {
   "cell_type": "code",
   "execution_count": 1,
   "metadata": {},
   "outputs": [],
   "source": [
    "import numpy as np"
   ]
  },
  {
   "cell_type": "code",
   "execution_count": 7,
   "metadata": {},
   "outputs": [
    {
     "name": "stdout",
     "output_type": "stream",
     "text": [
      "[[0.62917254 1.32014916 1.28381927 1.191732   0.87215099]\n",
      " [0.4893265  1.20410849 0.47110243 0.57424269 1.0016876 ]\n",
      " [0.814608   0.82977056 1.23035151 0.64215767 1.19248333]\n",
      " [1.35892451 0.61791173 0.87891982 1.35378862 0.83981448]\n",
      " [0.74790318 0.76624996 1.07586418 0.53138737 0.41938594]]\n",
      "[[0.62917254 1.32014916 1.28381927 1.191732   0.87215099]\n",
      " [0.4893265  1.20410849 0.47110243 0.57424269 1.0016876 ]\n",
      " [0.814608   0.82977056 1.23035151 0.64215767 1.19248333]\n",
      " [1.35892451 0.61791173 0.87891982 1.35378862 0.83981448]\n",
      " [0.74790318 0.76624996 1.07586418 0.53138737 0.41938594]]\n"
     ]
    }
   ],
   "source": [
    "M = np.random.rand(5,5)\n",
    "N = np.random.rand(5,5)\n",
    "\n",
    "s = np.random.randint(1, 2)\n",
    "\n",
    "print(s*(M + N))\n",
    "\n",
    "print(s*M + s*N)"
   ]
  },
  {
   "cell_type": "code",
   "execution_count": null,
   "metadata": {},
   "outputs": [],
   "source": []
  }
 ],
 "metadata": {
  "kernelspec": {
   "display_name": "base",
   "language": "python",
   "name": "python3"
  },
  "language_info": {
   "codemirror_mode": {
    "name": "ipython",
    "version": 3
   },
   "file_extension": ".py",
   "mimetype": "text/x-python",
   "name": "python",
   "nbconvert_exporter": "python",
   "pygments_lexer": "ipython3",
   "version": "3.1.0"
  }
 },
 "nbformat": 4,
 "nbformat_minor": 2
}
