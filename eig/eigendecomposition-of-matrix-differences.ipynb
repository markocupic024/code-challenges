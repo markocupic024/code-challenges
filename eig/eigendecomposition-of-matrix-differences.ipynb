{
 "cells": [
  {
   "cell_type": "code",
   "execution_count": 1,
   "id": "aaea63c4-d08b-44a4-8440-e594ccb98dd4",
   "metadata": {},
   "outputs": [],
   "source": [
    "import numpy as np"
   ]
  },
  {
   "cell_type": "code",
   "execution_count": 8,
   "id": "9fe45c85-9497-4ef9-9398-e84d89644489",
   "metadata": {},
   "outputs": [
    {
     "name": "stdout",
     "output_type": "stream",
     "text": [
      "[-2.34303452 -0.00933667  0.49523954  2.09630274]\n",
      "[[-0.69281044 -0.64329203 -0.32567655 -0.01112845]\n",
      " [-0.53000169  0.18053191  0.78038785 -0.27839046]\n",
      " [ 0.20214829 -0.11089293 -0.17830159 -0.95658108]\n",
      " [-0.44525045  0.73572166 -0.50312835 -0.08560107]]\n",
      " \n",
      "[5.48981075e+00 8.71733371e-05 2.45262200e-01 4.39448519e+00]\n",
      " \n",
      "[8.71733371e-05 2.45262200e-01 5.48981075e+00 4.39448519e+00]\n",
      "[[-0.64329203  0.32567655  0.69281044 -0.01112845]\n",
      " [ 0.18053191 -0.78038785  0.53000169 -0.27839046]\n",
      " [-0.11089293  0.17830159 -0.20214829 -0.95658108]\n",
      " [ 0.73572166  0.50312835  0.44525045 -0.08560107]]\n"
     ]
    }
   ],
   "source": [
    "A = np.random.rand(4, 4)\n",
    "A = A@A.T\n",
    "B = np.random.rand(4, 4)\n",
    "B = B@B.T\n",
    "\n",
    "eigenvals, eigenvecs = np.linalg.eig(A-B)\n",
    "print(eigenvals)\n",
    "print(eigenvecs) \n",
    "print(' ')\n",
    "print(eigenvals**2) \n",
    "print(' ')\n",
    "eigenvals, eigenvecs = np.linalg.eig(np.linalg.matrix_power(A, 2)-A@B-B@A+np.linalg.matrix_power(B, 2))\n",
    "print(eigenvals)\n",
    "print(eigenvecs) \n"
   ]
  }
 ],
 "metadata": {
  "kernelspec": {
   "display_name": "Python 3 (ipykernel)",
   "language": "python",
   "name": "python3"
  },
  "language_info": {
   "codemirror_mode": {
    "name": "ipython",
    "version": 3
   },
   "file_extension": ".py",
   "mimetype": "text/x-python",
   "name": "python",
   "nbconvert_exporter": "python",
   "pygments_lexer": "ipython3",
   "version": "3.11.7"
  }
 },
 "nbformat": 4,
 "nbformat_minor": 5
}
