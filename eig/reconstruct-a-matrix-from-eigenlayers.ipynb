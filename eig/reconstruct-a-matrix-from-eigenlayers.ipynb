{
 "cells": [
  {
   "cell_type": "code",
   "execution_count": 1,
   "id": "bb71d29c-dba8-4718-9e0e-50e4cc71f066",
   "metadata": {},
   "outputs": [],
   "source": [
    "import numpy as np"
   ]
  },
  {
   "cell_type": "code",
   "execution_count": 59,
   "id": "f4abf8b5-894c-4bb7-8271-92c24ddfd517",
   "metadata": {},
   "outputs": [
    {
     "name": "stdout",
     "output_type": "stream",
     "text": [
      "1.0\n",
      "6.14160204018968\n",
      "6.141602040189674\n",
      "6.217008098487182\n",
      "6.2170080984871765\n"
     ]
    }
   ],
   "source": [
    "m = 5\n",
    "\n",
    "A = np.random.rand(m,m)\n",
    "\n",
    "A = A@A.T\n",
    "\n",
    "D, V = np.linalg.eig(A)\n",
    "\n",
    "print(np.linalg.norm(np.outer(V[:, 0], V[:, 0])))\n",
    "\n",
    "A0 = np.outer(V[:, 0]*D[0],V[:, 0])\n",
    "\n",
    "print(D[0])\n",
    "\n",
    "print(np.linalg.norm(A0))\n",
    "\n",
    "Ae = np.zeros((m, m))\n",
    "\n",
    "for i in range(m):\n",
    "    Ae = np.sum([Ae,np.outer(V[:, i]*D[i],V[:, i])],axis=0)\n",
    "\n",
    "print(np.linalg.norm(A))\n",
    "print(np.linalg.norm(Ae))\n",
    "\n",
    "    "
   ]
  }
 ],
 "metadata": {
  "kernelspec": {
   "display_name": "Python 3 (ipykernel)",
   "language": "python",
   "name": "python3"
  },
  "language_info": {
   "codemirror_mode": {
    "name": "ipython",
    "version": 3
   },
   "file_extension": ".py",
   "mimetype": "text/x-python",
   "name": "python",
   "nbconvert_exporter": "python",
   "pygments_lexer": "ipython3",
   "version": "3.11.7"
  }
 },
 "nbformat": 4,
 "nbformat_minor": 5
}
