{
 "cells": [
  {
   "cell_type": "code",
   "execution_count": 1,
   "id": "db3bceb3-5636-40cd-83d7-3c46b981c30c",
   "metadata": {},
   "outputs": [],
   "source": [
    "import numpy as np"
   ]
  },
  {
   "cell_type": "code",
   "execution_count": 21,
   "id": "d8c57329-c6a7-4e77-9977-499730e71be1",
   "metadata": {},
   "outputs": [
    {
     "name": "stdout",
     "output_type": "stream",
     "text": [
      "21.628280420865423\n",
      "21.628280420865416\n",
      "76.90781069069418\n",
      "76.90781069069416\n",
      " \n",
      "(1.1847399313674445+0j)\n",
      "1.184739931367444\n",
      "0.0\n",
      "(-2.621784347792777e-16-1.5035466641270656e-32j)\n"
     ]
    }
   ],
   "source": [
    "A = np.random.randn(4,4)\n",
    "\n",
    "A = A@A.T\n",
    "\n",
    "D, V = np.linalg.eig(A)\n",
    "\n",
    "print(np.sum(D))\n",
    "\n",
    "print(np.trace(A))\n",
    "\n",
    "print(np.linalg.det(A))\n",
    "\n",
    "print(np.prod(D))\n",
    "\n",
    "print(' ')\n",
    "\n",
    "A = np.random.randn(4,4)\n",
    "\n",
    "A[:, -1] = A[:, -2]\n",
    "\n",
    "D, V = np.linalg.eig(A)\n",
    "\n",
    "print(np.sum(D))\n",
    "\n",
    "print(np.trace(A))\n",
    "\n",
    "print(np.linalg.det(A))\n",
    "\n",
    "print(np.prod(D))"
   ]
  }
 ],
 "metadata": {
  "kernelspec": {
   "display_name": "Python 3 (ipykernel)",
   "language": "python",
   "name": "python3"
  },
  "language_info": {
   "codemirror_mode": {
    "name": "ipython",
    "version": 3
   },
   "file_extension": ".py",
   "mimetype": "text/x-python",
   "name": "python",
   "nbconvert_exporter": "python",
   "pygments_lexer": "ipython3",
   "version": "3.11.7"
  }
 },
 "nbformat": 4,
 "nbformat_minor": 5
}
