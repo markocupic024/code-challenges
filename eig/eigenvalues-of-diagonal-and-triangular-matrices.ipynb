{
 "cells": [
  {
   "cell_type": "code",
   "execution_count": 1,
   "id": "2b0973ac-b64b-4274-8f8a-5da20e2f4a2a",
   "metadata": {},
   "outputs": [],
   "source": [
    "import numpy as np"
   ]
  },
  {
   "cell_type": "code",
   "execution_count": 14,
   "id": "5f3a1a4b-2bb5-4c60-8aa7-da871f07ec0f",
   "metadata": {},
   "outputs": [
    {
     "name": "stdout",
     "output_type": "stream",
     "text": [
      "[[0.80993768 0.         0.         0.        ]\n",
      " [0.         0.45301911 0.         0.        ]\n",
      " [0.         0.         0.00231041 0.        ]\n",
      " [0.         0.         0.         0.49825383]]\n",
      "[0.80993768 0.45301911 0.00231041 0.49825383]\n",
      "[0.49825383 0.00231041 0.45301911 0.80993768]\n",
      "[0.80993768 0.45301911 0.00231041 0.49825383]\n"
     ]
    }
   ],
   "source": [
    "A = np.random.rand(4,4)\n",
    "\n",
    "D = np.diag(np.diag(A))\n",
    "\n",
    "print(D)\n",
    "\n",
    "eigenval = np.linalg.eig(D)[0]\n",
    "\n",
    "print(eigenval)\n",
    "\n",
    "TL = np.tril(A)\n",
    "\n",
    "eigenval = np.linalg.eig(TL)[0]\n",
    "\n",
    "print(eigenval)\n",
    "\n",
    "TU = np.triu(A)\n",
    "\n",
    "eigenval = np.linalg.eig(TU)[0]\n",
    "\n",
    "print(eigenval)"
   ]
  }
 ],
 "metadata": {
  "kernelspec": {
   "display_name": "Python 3 (ipykernel)",
   "language": "python",
   "name": "python3"
  },
  "language_info": {
   "codemirror_mode": {
    "name": "ipython",
    "version": 3
   },
   "file_extension": ".py",
   "mimetype": "text/x-python",
   "name": "python",
   "nbconvert_exporter": "python",
   "pygments_lexer": "ipython3",
   "version": "3.11.7"
  }
 },
 "nbformat": 4,
 "nbformat_minor": 5
}
